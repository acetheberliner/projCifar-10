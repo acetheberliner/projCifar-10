{
 "cells": [
  {
   "cell_type": "markdown",
   "metadata": {},
   "source": [
    "# Data Analysis"
   ]
  },
  {
   "cell_type": "markdown",
   "metadata": {},
   "source": [
    "## 1. Importazione delle librerie necessarie"
   ]
  },
  {
   "cell_type": "code",
   "execution_count": null,
   "metadata": {},
   "outputs": [],
   "source": [
    "import pandas as pd\n",
    "import numpy as np\n",
    "import matplotlib.pyplot as plt\n",
    "import seaborn as sns\n",
    "import torchvision\n",
    "from torchvision import datasets, transforms\n",
    "from torch.utils.data import DataLoader"
   ]
  },
  {
   "cell_type": "markdown",
   "metadata": {},
   "source": [
    "## 2. Caricamento del dataset CIFAR-10\n",
    "\n",
    "###  Definisco una trasformazione minima solo per ottenere i dati come Tensor"
   ]
  },
  {
   "cell_type": "code",
   "execution_count": 18,
   "metadata": {},
   "outputs": [],
   "source": [
    "transform = transforms.Compose([transforms.ToTensor()])"
   ]
  },
  {
   "cell_type": "markdown",
   "metadata": {},
   "source": [
    "### Carico i dataset di train e validation"
   ]
  },
  {
   "cell_type": "code",
   "execution_count": 19,
   "metadata": {},
   "outputs": [],
   "source": [
    "train_dataset = datasets.CIFAR10(root='notebooks', train=True, download=True, transform=transform)\n",
    "val_dataset = datasets.CIFAR10(root='notebooks', train=False, download=True, transform=transform)"
   ]
  },
  {
   "cell_type": "markdown",
   "metadata": {},
   "source": [
    "## 3. Creazione di un DataFrame con informazioni sulle immagini\n",
    "### Recupera nomi delle classi\n"
   ]
  },
  {
   "cell_type": "code",
   "execution_count": 20,
   "metadata": {},
   "outputs": [],
   "source": [
    "class_names = train_dataset.classes"
   ]
  },
  {
   "cell_type": "markdown",
   "metadata": {},
   "source": [
    "### Crea liste per i DataFrame"
   ]
  },
  {
   "cell_type": "code",
   "execution_count": 21,
   "metadata": {},
   "outputs": [],
   "source": [
    "data = []\n",
    "for img, label in train_dataset:\n",
    "    # Aggiungi dati nel formato [classe, dimensioni, media_pixel, deviazione_standard_pixel]\n",
    "    data.append({\n",
    "        'label': class_names[label],\n",
    "        'width': img.shape[2],\n",
    "        'height': img.shape[1],\n",
    "        'mean_pixel_value': img.mean().item(),\n",
    "        'std_pixel_value': img.std().item()\n",
    "    })"
   ]
  },
  {
   "cell_type": "markdown",
   "metadata": {},
   "source": [
    "### Crea un dataframe"
   ]
  },
  {
   "cell_type": "code",
   "execution_count": 22,
   "metadata": {},
   "outputs": [],
   "source": [
    "df = pd.DataFrame(data)"
   ]
  },
  {
   "cell_type": "markdown",
   "metadata": {},
   "source": [
    "## 4. Visualizzazione dei primi 5 record del DataFrame"
   ]
  },
  {
   "cell_type": "code",
   "execution_count": 23,
   "metadata": {},
   "outputs": [],
   "source": [
    "df.head()"
   ]
  },
  {
   "cell_type": "markdown",
   "metadata": {},
   "source": [
    "## 5. Analisi statistica  del dataframe"
   ]
  },
  {
   "cell_type": "code",
   "execution_count": 24,
   "metadata": {},
   "outputs": [],
   "source": [
    "df.describe()"
   ]
  },
  {
   "cell_type": "markdown",
   "metadata": {},
   "source": [
    "## 6. Distribuzione delle classi\n",
    "### Visualizza la distribuzione delle classi nel dataset"
   ]
  },
  {
   "cell_type": "code",
   "execution_count": null,
   "metadata": {},
   "outputs": [],
   "source": [
    "plt.figure(figsize=(10, 6))\n",
    "sns.countplot(x='label', data=df, order=class_names)\n",
    "plt.xticks(rotation=45)\n",
    "plt.title('Distribuzione delle Classi nel CIFAR-10')\n",
    "plt.xlabel('Classi')\n",
    "plt.ylabel('Numero di Immagini')\n",
    "plt.show()"
   ]
  },
  {
   "cell_type": "markdown",
   "metadata": {},
   "source": [
    "## 7. Analisi delle dimensioni delle immagini\n",
    "### Mostra la distribuzione di larghezza e altezza delle immagini"
   ]
  },
  {
   "cell_type": "code",
   "execution_count": 26,
   "metadata": {},
   "outputs": [],
   "source": [
    "plt.figure(figsize=(12, 5))\n",
    "plt.subplot(1, 2, 1)\n",
    "sns.histplot(df['width'], kde=True, bins=30, color='blue')\n",
    "plt.title('Distribuzione delle Larghezze delle Immagini')\n",
    "\n",
    "plt.subplot(1, 2, 2)\n",
    "sns.histplot(df['height'], kde=True, bins=30, color='green')\n",
    "plt.title('Distribuzione delle Altezze delle Immagini')\n",
    "plt.show()"
   ]
  },
  {
   "cell_type": "markdown",
   "metadata": {},
   "source": [
    "## 8. Analisi delle statistiche dei pixel\n",
    "### Media e deviazione standard dei pixel"
   ]
  },
  {
   "cell_type": "code",
   "execution_count": 27,
   "metadata": {},
   "outputs": [],
   "source": [
    "plt.figure(figsize=(12, 5))\n",
    "plt.subplot(1, 2, 1)\n",
    "sns.histplot(df['mean_pixel_value'], kde=True, color='purple')\n",
    "plt.title('Distribuzione della Media dei Valori dei Pixel')\n",
    "\n",
    "plt.subplot(1, 2, 2)\n",
    "sns.histplot(df['std_pixel_value'], kde=True, color='orange')\n",
    "plt.title('Distribuzione della Deviazione Standard dei Valori dei Pixel')\n",
    "plt.show()"
   ]
  }
 ],
 "metadata": {
  "kernelspec": {
   "display_name": "Python 3",
   "language": "python",
   "name": "python3"
  },
  "language_info": {
   "codemirror_mode": {
    "name": "ipython",
    "version": 3
   },
   "file_extension": ".py",
   "mimetype": "text/x-python",
   "name": "python",
   "nbconvert_exporter": "python",
   "pygments_lexer": "ipython3",
   "version": "3.9.7"
  }
 },
 "nbformat": 4,
 "nbformat_minor": 2
}
